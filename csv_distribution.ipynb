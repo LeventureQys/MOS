{
 "cells": [
  {
   "cell_type": "code",
   "execution_count": null,
   "metadata": {},
   "outputs": [],
   "source": [
    "import pandas as pd\n",
    "import matplotlib.pyplot as plt\n",
    "import seaborn as sns\n",
    "df_clean = pd.read_csv('/home/alexis/_momo/df_test_clean.csv')\n",
    "df_snr25 = pd.read_csv('/home/alexis/_momo/df_test_snr25.csv')\n",
    "df_snr20 = pd.read_csv('/home/alexis/_momo/df_test_snr20.csv')\n",
    "df_snr15 = pd.read_csv('/home/alexis/_momo/df_test_snr15.csv')\n",
    "\n",
    "targets = ['OVRL_raw', 'SIG_raw', 'BAK_raw', 'OVRL', 'SIG', 'BAK', 'P808_MOS', \n",
    "           'mos_pred', 'noi_pred', 'dis_pred', 'col_pred', 'loud_pred', 'MOS_SSL', \n",
    "           'MOS_COL', 'MOS_DISC', 'MOS_LOUD', 'MOS_NOISE', 'MOS_REVERB', 'MOS_SIG', 'MOS_OVRL']\n",
    "num_rows = 5\n",
    "num_cols = 4\n",
    "fig, axes = plt.subplots(num_rows, num_cols, figsize=(20, 20))\n",
    "fig.suptitle('Distribution of the MOSes in [clean, snr25, snr20, snr15]', y=1.02)\n",
    "\n",
    "for i, target in enumerate(targets):\n",
    "    row = i // num_cols\n",
    "    col = i % num_cols\n",
    "    ax = axes[row, col]\n",
    "    sns.histplot(df_clean[target], kde=True, label='df_clean', bins=50, ax=ax)\n",
    "    sns.histplot(df_snr25[target], kde=True, label='df_snr25', bins=50, ax=ax)\n",
    "    sns.histplot(df_snr20[target], kde=True, label='df_snr20', bins=50, ax=ax)\n",
    "    sns.histplot(df_snr15[target], kde=True, label='df_snr15', bins=50, ax=ax)\n",
    "    # sns.kdeplot(df_clean[target], label='df_clean', shade=True, ax=ax)\n",
    "    # sns.kdeplot(df_snr25[target], label='df_snr25', shade=True, ax=ax)\n",
    "    # sns.kdeplot(df_snr20[target], label='df_snr20', shade=True, ax=ax)\n",
    "    # sns.kdeplot(df_snr15[target], label='df_snr15', shade=True, ax=ax)\n",
    "    ax.set_title(target)\n",
    "    ax.set_xlabel('mos')\n",
    "    ax.set_ylabel('frequency')\n",
    "    ax.legend()\n",
    "\n",
    "plt.tight_layout()\n",
    "plt.show()"
   ]
  }
 ],
 "metadata": {
  "kernelspec": {
   "display_name": "mos",
   "language": "python",
   "name": "python3"
  },
  "language_info": {
   "codemirror_mode": {
    "name": "ipython",
    "version": 3
   },
   "file_extension": ".py",
   "mimetype": "text/x-python",
   "name": "python",
   "nbconvert_exporter": "python",
   "pygments_lexer": "ipython3",
   "version": "3.10.12"
  }
 },
 "nbformat": 4,
 "nbformat_minor": 2
}
